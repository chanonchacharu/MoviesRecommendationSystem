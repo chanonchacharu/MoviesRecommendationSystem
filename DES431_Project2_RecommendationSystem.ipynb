{
  "nbformat": 4,
  "nbformat_minor": 0,
  "metadata": {
    "colab": {
      "provenance": []
    },
    "kernelspec": {
      "name": "python3",
      "display_name": "Python 3"
    },
    "language_info": {
      "name": "python"
    }
  },
  "cells": [
    {
      "cell_type": "markdown",
      "source": [
        "# DES431 Project 2: Recommendation System"
      ],
      "metadata": {
        "id": "VifjLatYtrNK"
      }
    },
    {
      "cell_type": "code",
      "execution_count": 1,
      "metadata": {
        "id": "9sOZ9VtgrMgX"
      },
      "outputs": [],
      "source": [
        "import pandas as pd\n",
        "import numpy as np\n",
        "pd.options.mode.chained_assignment = None  "
      ]
    },
    {
      "cell_type": "markdown",
      "source": [
        "# 1. Preparing the Dataset\n",
        "We provide two options to download the necessary dataset for Project 2: Recommendation System.\n",
        "\n",
        "For this project, we used the following dataset:\n",
        "1. ratings_train.csv\n",
        "2. movies.csv\n",
        "3. ratings_valid.csv\n",
        "\n",
        "\n",
        "---\n",
        "\n",
        "\n",
        "**Option 1**: Upload the .csv file onto google drive. Change the path of the variable \"movie_path\", \"ratings_train_path\", and \"ratings_valid_path\" to the correct path. The Google Drive must be \"Mounted\" first. \n",
        "\n",
        "The command below is used the Mount the Drive. This is a default option. If you want to mount the drive mannually, comment this code out and follow the step given after the code snippet.\n",
        "```\n",
        "from google.colab import drive\n",
        "drive.mount('/content/drive')\n",
        "```\n",
        "This process can be done mannually by:\n",
        "1. Select the \"File\" icon on the navigation tabe on the left (the fourth option_\n",
        "2. Click the icon with \"File and Google Drive Icon\".\n",
        "3. You drive is successfully mounted\n",
        "\n",
        "\n",
        "---\n",
        "\n",
        "\n",
        "**Option 2**: Upload the file from local storage onto the Google Colab directly using the following import and function.\n",
        "\n",
        "```\n",
        "from google.colab import files\n",
        "uploaded = files.upload()\n",
        "```\n",
        "\n",
        "*REMARK: The default option is \"Option 1\". Option 2 is commented out on purpose.*"
      ],
      "metadata": {
        "id": "f-iLOUZTsnL8"
      }
    },
    {
      "cell_type": "code",
      "source": [
        "# Option 1: Load the .csv file from Google Drive into pandas dataframe\n",
        "from google.colab import drive\n",
        "drive.mount('/content/drive')\n",
        "\n",
        "# Change each variable to the correspond file patch for movie, ratings_train, and ratings_valid\n",
        "movie_path = \"/content/drive/MyDrive/DES431_RecommendationSystem/movies.csv\"\n",
        "ratings_train_path = \"/content/drive/MyDrive/DES431_RecommendationSystem/ratings_train.csv\"\n",
        "ratings_valid_path = \"/content/drive/MyDrive/DES431_RecommendationSystem/ratings_valid.csv\"\n",
        "\n",
        "movies_df = pd.read_csv(movie_path)\n",
        "ratings_df = pd.read_csv(ratings_train_path)\n",
        "ratings_valid = pd.read_csv(ratings_valid_path)"
      ],
      "metadata": {
        "colab": {
          "base_uri": "https://localhost:8080/"
        },
        "id": "zUWYj_Jhr4th",
        "outputId": "41707068-0dc1-4181-9e02-63694d52defd"
      },
      "execution_count": 2,
      "outputs": [
        {
          "output_type": "stream",
          "name": "stdout",
          "text": [
            "Mounted at /content/drive\n"
          ]
        }
      ]
    },
    {
      "cell_type": "code",
      "source": [
        "# Option 2: Upload the file from local storage\n",
        "# from google.colab import files\n",
        "# uploaded = files.upload()\n",
        "\n",
        "# movies_df = pd.read_csv('movies.csv')\n",
        "# ratings_df = pd.read_csv('ratings_train.csv')\n",
        "# ratings_valid = pd.read_csv('ratings_valid.csv')"
      ],
      "metadata": {
        "id": "GpmD5yV5rjxp"
      },
      "execution_count": 3,
      "outputs": []
    },
    {
      "cell_type": "markdown",
      "source": [
        "# 2. Constructing Utility Matrix"
      ],
      "metadata": {
        "id": "ibMaFr0Nskfs"
      }
    },
    {
      "cell_type": "code",
      "source": [
        "# User-item matrix\n",
        "utility_matrix = ratings_df.pivot_table(index = \"userId\", columns = \"movieId\", values = \"rating\")\n",
        "\n",
        "missing_columns = list(set(movies_df[\"movieId\"]) - set(utility_matrix.columns))\n",
        "for col in missing_columns:\n",
        "    utility_matrix[col] = np.nan\n",
        "\n",
        "utility_matrix = utility_matrix[sorted(utility_matrix.columns)]\n",
        "\n",
        "utility_matrix.head()"
      ],
      "metadata": {
        "colab": {
          "base_uri": "https://localhost:8080/",
          "height": 311
        },
        "id": "_NnYOZjlsfW0",
        "outputId": "355a8b7b-543d-40f2-d6aa-6fe19d5ebb6b"
      },
      "execution_count": 4,
      "outputs": [
        {
          "output_type": "execute_result",
          "data": {
            "text/plain": [
              "movieId  1       2       3       4       5       6       7       8       \\\n",
              "userId                                                                    \n",
              "1           4.0     NaN     4.0     NaN     NaN     4.0     NaN     NaN   \n",
              "2           NaN     NaN     NaN     NaN     NaN     NaN     NaN     NaN   \n",
              "3           NaN     NaN     NaN     NaN     NaN     NaN     NaN     NaN   \n",
              "4           NaN     NaN     NaN     NaN     NaN     NaN     NaN     NaN   \n",
              "5           4.0     NaN     NaN     NaN     NaN     NaN     NaN     NaN   \n",
              "\n",
              "movieId  9       10      ...  193565  193567  193571  193573  193579  193581  \\\n",
              "userId                   ...                                                   \n",
              "1           NaN     NaN  ...     NaN     NaN     NaN     NaN     NaN     NaN   \n",
              "2           NaN     NaN  ...     NaN     NaN     NaN     NaN     NaN     NaN   \n",
              "3           NaN     NaN  ...     NaN     NaN     NaN     NaN     NaN     NaN   \n",
              "4           NaN     NaN  ...     NaN     NaN     NaN     NaN     NaN     NaN   \n",
              "5           NaN     NaN  ...     NaN     NaN     NaN     NaN     NaN     NaN   \n",
              "\n",
              "movieId  193583  193585  193587  193609  \n",
              "userId                                   \n",
              "1           NaN     NaN     NaN     NaN  \n",
              "2           NaN     NaN     NaN     NaN  \n",
              "3           NaN     NaN     NaN     NaN  \n",
              "4           NaN     NaN     NaN     NaN  \n",
              "5           NaN     NaN     NaN     NaN  \n",
              "\n",
              "[5 rows x 9742 columns]"
            ],
            "text/html": [
              "\n",
              "  <div id=\"df-37387aad-588d-489f-b736-16986efae3b6\">\n",
              "    <div class=\"colab-df-container\">\n",
              "      <div>\n",
              "<style scoped>\n",
              "    .dataframe tbody tr th:only-of-type {\n",
              "        vertical-align: middle;\n",
              "    }\n",
              "\n",
              "    .dataframe tbody tr th {\n",
              "        vertical-align: top;\n",
              "    }\n",
              "\n",
              "    .dataframe thead th {\n",
              "        text-align: right;\n",
              "    }\n",
              "</style>\n",
              "<table border=\"1\" class=\"dataframe\">\n",
              "  <thead>\n",
              "    <tr style=\"text-align: right;\">\n",
              "      <th>movieId</th>\n",
              "      <th>1</th>\n",
              "      <th>2</th>\n",
              "      <th>3</th>\n",
              "      <th>4</th>\n",
              "      <th>5</th>\n",
              "      <th>6</th>\n",
              "      <th>7</th>\n",
              "      <th>8</th>\n",
              "      <th>9</th>\n",
              "      <th>10</th>\n",
              "      <th>...</th>\n",
              "      <th>193565</th>\n",
              "      <th>193567</th>\n",
              "      <th>193571</th>\n",
              "      <th>193573</th>\n",
              "      <th>193579</th>\n",
              "      <th>193581</th>\n",
              "      <th>193583</th>\n",
              "      <th>193585</th>\n",
              "      <th>193587</th>\n",
              "      <th>193609</th>\n",
              "    </tr>\n",
              "    <tr>\n",
              "      <th>userId</th>\n",
              "      <th></th>\n",
              "      <th></th>\n",
              "      <th></th>\n",
              "      <th></th>\n",
              "      <th></th>\n",
              "      <th></th>\n",
              "      <th></th>\n",
              "      <th></th>\n",
              "      <th></th>\n",
              "      <th></th>\n",
              "      <th></th>\n",
              "      <th></th>\n",
              "      <th></th>\n",
              "      <th></th>\n",
              "      <th></th>\n",
              "      <th></th>\n",
              "      <th></th>\n",
              "      <th></th>\n",
              "      <th></th>\n",
              "      <th></th>\n",
              "      <th></th>\n",
              "    </tr>\n",
              "  </thead>\n",
              "  <tbody>\n",
              "    <tr>\n",
              "      <th>1</th>\n",
              "      <td>4.0</td>\n",
              "      <td>NaN</td>\n",
              "      <td>4.0</td>\n",
              "      <td>NaN</td>\n",
              "      <td>NaN</td>\n",
              "      <td>4.0</td>\n",
              "      <td>NaN</td>\n",
              "      <td>NaN</td>\n",
              "      <td>NaN</td>\n",
              "      <td>NaN</td>\n",
              "      <td>...</td>\n",
              "      <td>NaN</td>\n",
              "      <td>NaN</td>\n",
              "      <td>NaN</td>\n",
              "      <td>NaN</td>\n",
              "      <td>NaN</td>\n",
              "      <td>NaN</td>\n",
              "      <td>NaN</td>\n",
              "      <td>NaN</td>\n",
              "      <td>NaN</td>\n",
              "      <td>NaN</td>\n",
              "    </tr>\n",
              "    <tr>\n",
              "      <th>2</th>\n",
              "      <td>NaN</td>\n",
              "      <td>NaN</td>\n",
              "      <td>NaN</td>\n",
              "      <td>NaN</td>\n",
              "      <td>NaN</td>\n",
              "      <td>NaN</td>\n",
              "      <td>NaN</td>\n",
              "      <td>NaN</td>\n",
              "      <td>NaN</td>\n",
              "      <td>NaN</td>\n",
              "      <td>...</td>\n",
              "      <td>NaN</td>\n",
              "      <td>NaN</td>\n",
              "      <td>NaN</td>\n",
              "      <td>NaN</td>\n",
              "      <td>NaN</td>\n",
              "      <td>NaN</td>\n",
              "      <td>NaN</td>\n",
              "      <td>NaN</td>\n",
              "      <td>NaN</td>\n",
              "      <td>NaN</td>\n",
              "    </tr>\n",
              "    <tr>\n",
              "      <th>3</th>\n",
              "      <td>NaN</td>\n",
              "      <td>NaN</td>\n",
              "      <td>NaN</td>\n",
              "      <td>NaN</td>\n",
              "      <td>NaN</td>\n",
              "      <td>NaN</td>\n",
              "      <td>NaN</td>\n",
              "      <td>NaN</td>\n",
              "      <td>NaN</td>\n",
              "      <td>NaN</td>\n",
              "      <td>...</td>\n",
              "      <td>NaN</td>\n",
              "      <td>NaN</td>\n",
              "      <td>NaN</td>\n",
              "      <td>NaN</td>\n",
              "      <td>NaN</td>\n",
              "      <td>NaN</td>\n",
              "      <td>NaN</td>\n",
              "      <td>NaN</td>\n",
              "      <td>NaN</td>\n",
              "      <td>NaN</td>\n",
              "    </tr>\n",
              "    <tr>\n",
              "      <th>4</th>\n",
              "      <td>NaN</td>\n",
              "      <td>NaN</td>\n",
              "      <td>NaN</td>\n",
              "      <td>NaN</td>\n",
              "      <td>NaN</td>\n",
              "      <td>NaN</td>\n",
              "      <td>NaN</td>\n",
              "      <td>NaN</td>\n",
              "      <td>NaN</td>\n",
              "      <td>NaN</td>\n",
              "      <td>...</td>\n",
              "      <td>NaN</td>\n",
              "      <td>NaN</td>\n",
              "      <td>NaN</td>\n",
              "      <td>NaN</td>\n",
              "      <td>NaN</td>\n",
              "      <td>NaN</td>\n",
              "      <td>NaN</td>\n",
              "      <td>NaN</td>\n",
              "      <td>NaN</td>\n",
              "      <td>NaN</td>\n",
              "    </tr>\n",
              "    <tr>\n",
              "      <th>5</th>\n",
              "      <td>4.0</td>\n",
              "      <td>NaN</td>\n",
              "      <td>NaN</td>\n",
              "      <td>NaN</td>\n",
              "      <td>NaN</td>\n",
              "      <td>NaN</td>\n",
              "      <td>NaN</td>\n",
              "      <td>NaN</td>\n",
              "      <td>NaN</td>\n",
              "      <td>NaN</td>\n",
              "      <td>...</td>\n",
              "      <td>NaN</td>\n",
              "      <td>NaN</td>\n",
              "      <td>NaN</td>\n",
              "      <td>NaN</td>\n",
              "      <td>NaN</td>\n",
              "      <td>NaN</td>\n",
              "      <td>NaN</td>\n",
              "      <td>NaN</td>\n",
              "      <td>NaN</td>\n",
              "      <td>NaN</td>\n",
              "    </tr>\n",
              "  </tbody>\n",
              "</table>\n",
              "<p>5 rows × 9742 columns</p>\n",
              "</div>\n",
              "      <button class=\"colab-df-convert\" onclick=\"convertToInteractive('df-37387aad-588d-489f-b736-16986efae3b6')\"\n",
              "              title=\"Convert this dataframe to an interactive table.\"\n",
              "              style=\"display:none;\">\n",
              "        \n",
              "  <svg xmlns=\"http://www.w3.org/2000/svg\" height=\"24px\"viewBox=\"0 0 24 24\"\n",
              "       width=\"24px\">\n",
              "    <path d=\"M0 0h24v24H0V0z\" fill=\"none\"/>\n",
              "    <path d=\"M18.56 5.44l.94 2.06.94-2.06 2.06-.94-2.06-.94-.94-2.06-.94 2.06-2.06.94zm-11 1L8.5 8.5l.94-2.06 2.06-.94-2.06-.94L8.5 2.5l-.94 2.06-2.06.94zm10 10l.94 2.06.94-2.06 2.06-.94-2.06-.94-.94-2.06-.94 2.06-2.06.94z\"/><path d=\"M17.41 7.96l-1.37-1.37c-.4-.4-.92-.59-1.43-.59-.52 0-1.04.2-1.43.59L10.3 9.45l-7.72 7.72c-.78.78-.78 2.05 0 2.83L4 21.41c.39.39.9.59 1.41.59.51 0 1.02-.2 1.41-.59l7.78-7.78 2.81-2.81c.8-.78.8-2.07 0-2.86zM5.41 20L4 18.59l7.72-7.72 1.47 1.35L5.41 20z\"/>\n",
              "  </svg>\n",
              "      </button>\n",
              "      \n",
              "  <style>\n",
              "    .colab-df-container {\n",
              "      display:flex;\n",
              "      flex-wrap:wrap;\n",
              "      gap: 12px;\n",
              "    }\n",
              "\n",
              "    .colab-df-convert {\n",
              "      background-color: #E8F0FE;\n",
              "      border: none;\n",
              "      border-radius: 50%;\n",
              "      cursor: pointer;\n",
              "      display: none;\n",
              "      fill: #1967D2;\n",
              "      height: 32px;\n",
              "      padding: 0 0 0 0;\n",
              "      width: 32px;\n",
              "    }\n",
              "\n",
              "    .colab-df-convert:hover {\n",
              "      background-color: #E2EBFA;\n",
              "      box-shadow: 0px 1px 2px rgba(60, 64, 67, 0.3), 0px 1px 3px 1px rgba(60, 64, 67, 0.15);\n",
              "      fill: #174EA6;\n",
              "    }\n",
              "\n",
              "    [theme=dark] .colab-df-convert {\n",
              "      background-color: #3B4455;\n",
              "      fill: #D2E3FC;\n",
              "    }\n",
              "\n",
              "    [theme=dark] .colab-df-convert:hover {\n",
              "      background-color: #434B5C;\n",
              "      box-shadow: 0px 1px 3px 1px rgba(0, 0, 0, 0.15);\n",
              "      filter: drop-shadow(0px 1px 2px rgba(0, 0, 0, 0.3));\n",
              "      fill: #FFFFFF;\n",
              "    }\n",
              "  </style>\n",
              "\n",
              "      <script>\n",
              "        const buttonEl =\n",
              "          document.querySelector('#df-37387aad-588d-489f-b736-16986efae3b6 button.colab-df-convert');\n",
              "        buttonEl.style.display =\n",
              "          google.colab.kernel.accessAllowed ? 'block' : 'none';\n",
              "\n",
              "        async function convertToInteractive(key) {\n",
              "          const element = document.querySelector('#df-37387aad-588d-489f-b736-16986efae3b6');\n",
              "          const dataTable =\n",
              "            await google.colab.kernel.invokeFunction('convertToInteractive',\n",
              "                                                     [key], {});\n",
              "          if (!dataTable) return;\n",
              "\n",
              "          const docLinkHtml = 'Like what you see? Visit the ' +\n",
              "            '<a target=\"_blank\" href=https://colab.research.google.com/notebooks/data_table.ipynb>data table notebook</a>'\n",
              "            + ' to learn more about interactive tables.';\n",
              "          element.innerHTML = '';\n",
              "          dataTable['output_type'] = 'display_data';\n",
              "          await google.colab.output.renderOutput(dataTable, element);\n",
              "          const docLink = document.createElement('div');\n",
              "          docLink.innerHTML = docLinkHtml;\n",
              "          element.appendChild(docLink);\n",
              "        }\n",
              "      </script>\n",
              "    </div>\n",
              "  </div>\n",
              "  "
            ]
          },
          "metadata": {},
          "execution_count": 4
        }
      ]
    },
    {
      "cell_type": "markdown",
      "source": [
        "# 3. Global Bias"
      ],
      "metadata": {
        "id": "WGq7KLQ2vJbn"
      }
    },
    {
      "cell_type": "code",
      "source": [
        "class GlobalBias:\n",
        "\n",
        "    def __init__(self, utility_matrix):\n",
        "        self.utility_matrix = utility_matrix\n",
        "        self.overall_mean = np.nanmean(self.utility_matrix.values)\n",
        "\n",
        "    def calculate_user_bias(self, user_id):\n",
        "        user_rating_val = self.utility_matrix.loc[user_id].dropna().values\n",
        "        user_rating_count = user_rating_val.shape[0]\n",
        "        \n",
        "        if user_rating_count == 0:\n",
        "            user_mean = 0\n",
        "        else:\n",
        "            user_mean = user_rating_val.sum() / user_rating_count\n",
        "\n",
        "        user_bias = user_mean - self.overall_mean\n",
        "\n",
        "        return user_bias\n",
        "        \n",
        "    def calculate_movie_bias(self, movie_id):\n",
        "        movie_rating_val = self.utility_matrix.loc[:,movie_id].dropna().values\n",
        "        movie_rating_count = movie_rating_val.shape[0]\n",
        "        if movie_rating_count == 0:\n",
        "            movie_mean = 0\n",
        "        else:\n",
        "            movie_mean = movie_rating_val.sum() / movie_rating_count\n",
        "\n",
        "        movie_bias = movie_mean - self.overall_mean\n",
        "\n",
        "        return movie_bias\n",
        "\n",
        "    def predict(self, user_id, movie_id):\n",
        "        user_bias = self.calculate_user_bias(user_id)\n",
        "        movie_bias = self.calculate_movie_bias(movie_id)\n",
        "        \n",
        "        # Find the predited rating given userId and movieId\n",
        "        predicted_rating = self.overall_mean + user_bias + movie_bias\n",
        "        \n",
        "        return predicted_rating\n",
        "\n",
        "user_id, movie_id = 4 , 45\n",
        "\n",
        "global_bias_model = GlobalBias(utility_matrix)\n",
        "predicted = global_bias_model.predict(user_id, movie_id)\n",
        "\n",
        "predicted"
      ],
      "metadata": {
        "colab": {
          "base_uri": "https://localhost:8080/"
        },
        "id": "aafurDsovEcX",
        "outputId": "4873001d-9ac9-4579-bba8-a5bebcd21e8f"
      },
      "execution_count": 5,
      "outputs": [
        {
          "output_type": "execute_result",
          "data": {
            "text/plain": [
              "3.4455772386081653"
            ]
          },
          "metadata": {},
          "execution_count": 5
        }
      ]
    },
    {
      "cell_type": "markdown",
      "source": [
        "### Global Bias: model validation"
      ],
      "metadata": {
        "id": "JWI1g_zrvQVO"
      }
    },
    {
      "cell_type": "code",
      "source": [
        "from sklearn.metrics import mean_squared_error\n",
        "\n",
        "r = ratings_valid[[\"userId\",\"movieId\"]]\n",
        "\n",
        "predicted_ratings = []\n",
        "\n",
        "for index, (user_id, movie_id) in enumerate(zip(r[\"userId\"], r[\"movieId\"])):\n",
        "    pred_rat = global_bias_model.predict(user_id, movie_id)\n",
        "    predicted_ratings.append(pred_rat)\n",
        "\n",
        "r[\"predicted_rating\"] = predicted_ratings\n",
        "\n",
        "r_true = ratings_valid['rating'].to_numpy()\n",
        "r_pred = r[\"predicted_rating\"].to_numpy()\n",
        "\n",
        "rmse = mean_squared_error(r_true, r_pred, squared = False)\n",
        "print(\"RMSE: \", rmse)"
      ],
      "metadata": {
        "colab": {
          "base_uri": "https://localhost:8080/"
        },
        "id": "dnhiv0zVvKyG",
        "outputId": "225f890b-dbe2-4862-9651-8fdb72036877"
      },
      "execution_count": 6,
      "outputs": [
        {
          "output_type": "stream",
          "name": "stdout",
          "text": [
            "RMSE:  0.888971186618481\n"
          ]
        }
      ]
    },
    {
      "cell_type": "markdown",
      "source": [
        "# 4. Collaborative Filtering: User and Item based"
      ],
      "metadata": {
        "id": "KOSDrCXYvYzi"
      }
    },
    {
      "cell_type": "markdown",
      "source": [
        "## Item-based"
      ],
      "metadata": {
        "id": "VhL75cMvvcCQ"
      }
    },
    {
      "cell_type": "code",
      "source": [
        "from sklearn.metrics.pairwise import cosine_similarity\n",
        "\n",
        "class ItemBasedCollaborativeFiltering:\n",
        "\n",
        "    def __init__(self, k = 15, method = \"cosine\"):\n",
        "        self.k = k\n",
        "        self.method = method\n",
        "    \n",
        "    def fit(self, utility_matrix):\n",
        "        self.utility_matrix = utility_matrix\n",
        "        \n",
        "        if self.method == \"pearson\":\n",
        "            self.item_similarity_matrix = utility_matrix.corr(method= self.method)\n",
        "        elif self.method == \"cosine\":\n",
        "            new_util_matrix = self.utility_matrix.fillna(0)\n",
        "            new_util = new_util_matrix.copy()\n",
        "            new_util_matrix = cosine_similarity(new_util_matrix.T)\n",
        "\n",
        "            new_util_matrix_df = pd.DataFrame(\n",
        "                data=new_util_matrix,\n",
        "                index = new_util.columns,\n",
        "                columns = new_util.columns\n",
        "            )\n",
        "            self.item_similarity_matrix = new_util_matrix_df\n",
        "    \n",
        "    def predict(self, user_id, movie_id):\n",
        "        user_ratings = self.utility_matrix.loc[user_id]\n",
        "        similar_movies = self.item_similarity_matrix[movie_id][user_ratings.notna()]\n",
        "        top_similar_movies = similar_movies.nlargest(self.k+1)[1:]\n",
        "        user_ratings_updated = user_ratings[top_similar_movies.index]\n",
        "        if top_similar_movies.sum() == 0:\n",
        "            predicted_rating = user_ratings.mean()\n",
        "        else:\n",
        "            predicted_rating = (user_ratings_updated * top_similar_movies).sum() / top_similar_movies.sum()\n",
        "        \n",
        "        if predicted_rating > 5:\n",
        "            predicted_rating = 5\n",
        "        \n",
        "        if predicted_rating < 0.5:\n",
        "            predicted_rating = 0.5 \n",
        "\n",
        "        return predicted_rating\n",
        "\n",
        "# Define Item-based Collaborative Filtering Object\n",
        "\n",
        "# DEFAULT: Using cosine similarity and k=15 (15 nearest neighbours)\n",
        "itembased_cf = ItemBasedCollaborativeFiltering()\n",
        "itembased_cf.fit(utility_matrix)\n",
        "predicted_rating = itembased_cf.predict(user_id=4, movie_id=45)\n",
        "predicted_rating"
      ],
      "metadata": {
        "colab": {
          "base_uri": "https://localhost:8080/"
        },
        "id": "hdOwcER_vVaB",
        "outputId": "7b8cc68d-dd24-45fe-8dbc-c4519917abdd"
      },
      "execution_count": 7,
      "outputs": [
        {
          "output_type": "execute_result",
          "data": {
            "text/plain": [
              "3.646501776819902"
            ]
          },
          "metadata": {},
          "execution_count": 7
        }
      ]
    },
    {
      "cell_type": "markdown",
      "source": [
        "### Item-based Model validation"
      ],
      "metadata": {
        "id": "-wzE-CdUvlTj"
      }
    },
    {
      "cell_type": "code",
      "source": [
        "r = ratings_valid[[\"userId\",\"movieId\"]]\n",
        "\n",
        "predicted_ratings = []\n",
        "\n",
        "for index, (user_id, movie_id) in enumerate(zip(r[\"userId\"], r[\"movieId\"])):\n",
        "    pred_rat = itembased_cf.predict(user_id, movie_id)\n",
        "    if pred_rat is None:\n",
        "        print(f\"{index}: {user_id}, {movie_id}\")\n",
        "    predicted_ratings.append(pred_rat)\n",
        "\n",
        "r[\"predicted_rating\"] = predicted_ratings\n",
        "\n",
        "r_true = ratings_valid['rating'].to_numpy()\n",
        "r_pred = r[\"predicted_rating\"].to_numpy()\n",
        "\n",
        "rmse = mean_squared_error(r_true, r_pred, squared = False)\n",
        "\n",
        "print(f\"RMSE: {rmse: .4f}\")"
      ],
      "metadata": {
        "colab": {
          "base_uri": "https://localhost:8080/"
        },
        "id": "MRsAhc5pvig2",
        "outputId": "82588b53-6ef7-40d1-94df-b28ea640ae08"
      },
      "execution_count": 8,
      "outputs": [
        {
          "output_type": "stream",
          "name": "stdout",
          "text": [
            "RMSE:  0.8468\n"
          ]
        }
      ]
    },
    {
      "cell_type": "markdown",
      "source": [
        "## User-based"
      ],
      "metadata": {
        "id": "mJGviB6Uv43U"
      }
    },
    {
      "cell_type": "code",
      "source": [
        "class UserBasedCollaborativeFiltering:\n",
        "\n",
        "    def __init__(self, k = 10):\n",
        "        self.k = k\n",
        "    \n",
        "    def fit(self,utility_matrix):\n",
        "        self.utility_matrix = utility_matrix\n",
        "\n",
        "        user_similarity_matrix = cosine_similarity(utility_matrix.fillna(0))\n",
        "        self.user_sim_df = pd.DataFrame(\n",
        "            user_similarity_matrix, \n",
        "            index = self.utility_matrix.index, \n",
        "            columns = self.utility_matrix.index\n",
        "        )\n",
        "\n",
        "    def rescale(self, predicted_rating):\n",
        "        # Rescale of the predicted score is outside of range 0.5 and 5.0\n",
        "        if predicted_rating > 5:\n",
        "            predicted_rating = 5\n",
        "        \n",
        "        if predicted_rating < 0.5:\n",
        "            predicted_rating = 0.5 \n",
        "        \n",
        "        return predicted_rating\n",
        "\n",
        "    def predict(self, user_id, movie_id):\n",
        "        # Select only targeted rating for movieId\n",
        "        target_movie_rating = self.utility_matrix[movie_id].dropna()\n",
        "\n",
        "        # Select Top K Similar user\n",
        "        # From user similarity matrix, select the target userId, select only user that have rated the movie \n",
        "        similar_users_simscore = self.user_sim_df[user_id][target_movie_rating.index] \\\n",
        "                                     .sort_values(ascending = False)[1:self.k+1]\n",
        "        \n",
        "        # Target user rating\n",
        "        target_user_avrrating = ratings_df[ratings_df[\"userId\"] == user_id][\"rating\"].mean()\n",
        "\n",
        "        # Address the problem where there is no similar users\n",
        "        if similar_users_simscore.sum() == 0:\n",
        "            prediction = target_user_avrrating\n",
        "        else: \n",
        "            # Select rating that similar users have given to the target movie\n",
        "            similar_users_rating = target_movie_rating[similar_users_simscore.index]\n",
        "\n",
        "            # Compute average rating of similar user\n",
        "            similar_users_avrrating = ratings_df[ratings_df[\"userId\"].isin(similar_users_simscore.index.tolist())] \\\n",
        "                                                            .groupby(\"userId\").mean()[\"rating\"] \\\n",
        "                                                            [similar_users_simscore.index]\n",
        "\n",
        "            offset = (similar_users_simscore * (similar_users_rating - similar_users_avrrating)).sum() \\\n",
        "                                / similar_users_simscore.sum()\n",
        "        \n",
        "            predicted_rating = target_user_avrrating + offset\n",
        " \n",
        "        return self.rescale(predicted_rating)\n",
        "\n",
        "userbased_model = UserBasedCollaborativeFiltering()\n",
        "userbased_model.fit(utility_matrix)\n",
        "\n",
        "user_id, movie_id  = 4, 45\n",
        "prediction = userbased_model.predict(user_id = user_id, movie_id = movie_id)\n",
        "prediction"
      ],
      "metadata": {
        "colab": {
          "base_uri": "https://localhost:8080/"
        },
        "id": "pqe8LwXgvoQ-",
        "outputId": "9ff204b8-530c-4145-eea1-26703279166f"
      },
      "execution_count": 9,
      "outputs": [
        {
          "output_type": "execute_result",
          "data": {
            "text/plain": [
              "3.3420609627516202"
            ]
          },
          "metadata": {},
          "execution_count": 9
        }
      ]
    },
    {
      "cell_type": "markdown",
      "source": [
        "### User-based Model validation"
      ],
      "metadata": {
        "id": "_6MYJ8hfwAt9"
      }
    },
    {
      "cell_type": "code",
      "source": [
        "r = ratings_valid[[\"userId\",\"movieId\"]]\n",
        "\n",
        "predicted_ratings = []\n",
        "\n",
        "for index, (user_id, movie_id) in enumerate(zip(r[\"userId\"], r[\"movieId\"])):\n",
        "    pred_rat = userbased_model.predict(user_id, movie_id)\n",
        "    if pred_rat is None:\n",
        "        print(f\"{index}: {user_id}, {movie_id}\")\n",
        "    predicted_ratings.append(pred_rat)\n",
        "\n",
        "r[\"predicted_rating\"] = predicted_ratings\n",
        "\n",
        "r_true = ratings_valid['rating'].to_numpy()\n",
        "r_pred = r[\"predicted_rating\"].to_numpy()\n",
        "\n",
        "rmse = mean_squared_error(r_true, r_pred, squared = False)\n",
        "\n",
        "print(f\"RMSE: {rmse: .4f}\")"
      ],
      "metadata": {
        "colab": {
          "base_uri": "https://localhost:8080/"
        },
        "id": "EPPWXit-v8Gt",
        "outputId": "fa8ed615-b317-4121-a1f0-d641efdcc3d9"
      },
      "execution_count": 10,
      "outputs": [
        {
          "output_type": "stream",
          "name": "stdout",
          "text": [
            "RMSE:  0.8860\n"
          ]
        }
      ]
    },
    {
      "cell_type": "markdown",
      "source": [
        "# 5. Latent Factor Model\n",
        "Using Matrix Factorization techniques"
      ],
      "metadata": {
        "id": "YYilgmW0wMWP"
      }
    },
    {
      "cell_type": "markdown",
      "source": [
        "For the Latent Factor Model, an extra package must be installed using the command in the next cell"
      ],
      "metadata": {
        "id": "5fYt3TO8wOiv"
      }
    },
    {
      "cell_type": "code",
      "source": [
        "!pip install scikit-surprise"
      ],
      "metadata": {
        "colab": {
          "base_uri": "https://localhost:8080/"
        },
        "id": "6XUcBA0HwGPh",
        "outputId": "247dd0d9-887a-4239-c763-ae8765612ccc"
      },
      "execution_count": 11,
      "outputs": [
        {
          "output_type": "stream",
          "name": "stdout",
          "text": [
            "Looking in indexes: https://pypi.org/simple, https://us-python.pkg.dev/colab-wheels/public/simple/\n",
            "Collecting scikit-surprise\n",
            "  Downloading scikit-surprise-1.1.3.tar.gz (771 kB)\n",
            "\u001b[2K     \u001b[90m━━━━━━━━━━━━━━━━━━━━━━━━━━━━━━━━━━━━━━\u001b[0m \u001b[32m772.0/772.0 kB\u001b[0m \u001b[31m12.6 MB/s\u001b[0m eta \u001b[36m0:00:00\u001b[0m\n",
            "\u001b[?25h  Preparing metadata (setup.py) ... \u001b[?25l\u001b[?25hdone\n",
            "Requirement already satisfied: joblib>=1.0.0 in /usr/local/lib/python3.10/dist-packages (from scikit-surprise) (1.2.0)\n",
            "Requirement already satisfied: numpy>=1.17.3 in /usr/local/lib/python3.10/dist-packages (from scikit-surprise) (1.22.4)\n",
            "Requirement already satisfied: scipy>=1.3.2 in /usr/local/lib/python3.10/dist-packages (from scikit-surprise) (1.10.1)\n",
            "Building wheels for collected packages: scikit-surprise\n",
            "  Building wheel for scikit-surprise (setup.py) ... \u001b[?25l\u001b[?25hdone\n",
            "  Created wheel for scikit-surprise: filename=scikit_surprise-1.1.3-cp310-cp310-linux_x86_64.whl size=3095441 sha256=14fe5d2ecea3d18ca8c79196ab8f4cb26f718962358fdccebe29651f862f4d3e\n",
            "  Stored in directory: /root/.cache/pip/wheels/a5/ca/a8/4e28def53797fdc4363ca4af740db15a9c2f1595ebc51fb445\n",
            "Successfully built scikit-surprise\n",
            "Installing collected packages: scikit-surprise\n",
            "Successfully installed scikit-surprise-1.1.3\n"
          ]
        }
      ]
    },
    {
      "cell_type": "code",
      "source": [
        "from surprise import Dataset, Reader, SVD\n",
        "from sklearn.metrics import mean_squared_error\n",
        "\n",
        "# Create a Reader object\n",
        "reader = Reader(rating_scale=(0.5, 5))\n",
        "\n",
        "# Load the data into a Surprise Dataset object\n",
        "ratings_train = ratings_df.copy()\n",
        "data = Dataset.load_from_df(ratings_train[['userId', 'movieId', 'rating']], reader)\n",
        "trainset = data.build_full_trainset()\n",
        "\n",
        "# Define the SVD model and train it on the training set\n",
        "svdmodel = SVD(n_factors=100, lr_all=0.01, reg_all=1)\n",
        "svdmodel.fit(trainset)"
      ],
      "metadata": {
        "colab": {
          "base_uri": "https://localhost:8080/"
        },
        "id": "p2AqYCGswOQN",
        "outputId": "21dc0050-bebe-40c0-e87c-83dbc2d2eadc"
      },
      "execution_count": 12,
      "outputs": [
        {
          "output_type": "execute_result",
          "data": {
            "text/plain": [
              "<surprise.prediction_algorithms.matrix_factorization.SVD at 0x7fb93994b6d0>"
            ]
          },
          "metadata": {},
          "execution_count": 12
        }
      ]
    },
    {
      "cell_type": "markdown",
      "source": [
        "### Latent Factor Model validation"
      ],
      "metadata": {
        "id": "32qL31TqwnRo"
      }
    },
    {
      "cell_type": "code",
      "source": [
        "r = ratings_valid[[\"userId\",\"movieId\"]]\n",
        "\n",
        "predicted_ratings = []\n",
        "\n",
        "for index, (user_id, movie_id) in enumerate(zip(r[\"userId\"], r[\"movieId\"])):\n",
        "    pred_rat = svdmodel.predict(user_id, movie_id)\n",
        "    predicted_ratings.append(pred_rat.est)\n",
        "\n",
        "r[\"predicted_rating\"] = predicted_ratings\n",
        "\n",
        "r_true = ratings_valid['rating'].to_numpy()\n",
        "r_pred = r[\"predicted_rating\"].to_numpy()\n",
        "\n",
        "rmse = mean_squared_error(r_true, r_pred, squared = False)\n",
        "print(\"RMSE: \", rmse)"
      ],
      "metadata": {
        "colab": {
          "base_uri": "https://localhost:8080/"
        },
        "id": "MpRYx8fxwm4r",
        "outputId": "a57f2412-7e24-4037-d1a8-b4e0b229747e"
      },
      "execution_count": 13,
      "outputs": [
        {
          "output_type": "stream",
          "name": "stdout",
          "text": [
            "RMSE:  0.8697991632245714\n"
          ]
        }
      ]
    },
    {
      "cell_type": "markdown",
      "source": [
        "# 6. Final: Ensemble Recommendation System"
      ],
      "metadata": {
        "id": "vyC6FMUzwuhc"
      }
    },
    {
      "cell_type": "code",
      "source": [
        "def predict_rating(df):\n",
        "    '''\n",
        "    Input:\n",
        "        df = a dataframe with two columns: userId, movieId\n",
        "    Output:\n",
        "        a dataframe with three columns: userId, movieId, rating\n",
        "    '''\n",
        "    ############################## Model Construction ##################################\n",
        "    # Global Bias Model\n",
        "    global_bias_model = GlobalBias(utility_matrix)\n",
        "\n",
        "    # Collaborative Filtering \n",
        "    # Item-based\n",
        "    itembased_cf = ItemBasedCollaborativeFiltering()\n",
        "    itembased_cf.fit(utility_matrix)\n",
        "\n",
        "    # User-based\n",
        "    userbased_model = UserBasedCollaborativeFiltering()\n",
        "    userbased_model.fit(utility_matrix)\n",
        "\n",
        "    # Laten Factor Model\n",
        "    svdmodel = SVD(n_factors=100, lr_all=0.01, reg_all=1)\n",
        "    svdmodel.fit(trainset)\n",
        "\n",
        "    ############################## Model Prediction ##################################\n",
        "    # Define list so storing the predicted values\n",
        "    gb_pred = []\n",
        "    itcf_pred = []\n",
        "    ucf_pred = []\n",
        "    svdm_pred = []\n",
        "\n",
        "    # Predict the rating for each pair of userId and movieId\n",
        "    for index, (user_id, movie_id) in enumerate(zip(r[\"userId\"], r[\"movieId\"])):\n",
        "        # Global Bias\n",
        "        gb = global_bias_model.predict(user_id, movie_id)\n",
        "        gb_pred.append(gb)\n",
        "\n",
        "        # Item-based\n",
        "        itcf = itembased_cf.predict(user_id, movie_id)\n",
        "        itcf_pred.append(itcf)\n",
        "\n",
        "        # User-based \n",
        "        ucf = userbased_model.predict(user_id, movie_id)\n",
        "        ucf_pred.append(ucf)\n",
        "\n",
        "        # Latent Factor Model\n",
        "        svd = svdmodel.predict(user_id, movie_id).est\n",
        "        svdm_pred.append(svd)\n",
        "\n",
        "    ############################## Construct Final Rating ##################################\n",
        "    df[\"gb_pred\"] = gb_pred\n",
        "    df[\"itcf_pred\"] = itcf_pred \n",
        "    df[\"ucf_pred\"] = ucf_pred\n",
        "    df[\"svdm_pred\"] = svdm_pred\n",
        "\n",
        "    # Calculate the weighted rating\n",
        "    df[\"rating\"] = 0.15*df[\"gb_pred\"] + 0.4*df[\"itcf_pred\"] + 0.2*df[\"ucf_pred\"] + 0.25*df[\"svdm_pred\"] \n",
        "\n",
        "    return df[[\"userId\",\"movieId\",\"rating\"]]\n",
        "\n",
        "# the ratnigs_valid.csv file is subject to change during the grading process\n",
        "# this file can be change earlier in the problem when loading the necessary dataset\n",
        "r = ratings_valid[[\"userId\",\"movieId\"]]\n",
        "\n",
        "ratings_pred = predict_rating(r)"
      ],
      "metadata": {
        "id": "MX0oedWzwsa8"
      },
      "execution_count": 14,
      "outputs": []
    },
    {
      "cell_type": "markdown",
      "source": [
        "# 7. Rating Validation: Calculating RMSE\n",
        "The result from the cell below is the RMSE we got using the Ensemble model\n",
        "\n",
        "`Ensemble Recommendation System = Global Bias + Item-based Collaborative Filtering + User-based Collaborative Filtering + Latent Factor Model`"
      ],
      "metadata": {
        "id": "vwT1ZAl4xoxw"
      }
    },
    {
      "cell_type": "code",
      "source": [
        "r_true = ratings_valid[\"rating\"].to_numpy()\n",
        "r_pred = r[\"rating\"].to_numpy()\n",
        "\n",
        "rmse = mean_squared_error(r_true, r_pred, squared=False)\n",
        "print(f\"RMSE = {rmse:.4f}\")"
      ],
      "metadata": {
        "colab": {
          "base_uri": "https://localhost:8080/"
        },
        "id": "dbfzVT0hxdmI",
        "outputId": "8351994e-ec31-4c97-fd1d-f944d4674373"
      },
      "execution_count": 15,
      "outputs": [
        {
          "output_type": "stream",
          "name": "stdout",
          "text": [
            "RMSE = 0.8182\n"
          ]
        }
      ]
    }
  ]
}